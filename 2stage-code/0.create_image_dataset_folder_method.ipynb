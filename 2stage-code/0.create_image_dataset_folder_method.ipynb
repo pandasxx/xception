{
 "cells": [
  {
   "cell_type": "markdown",
   "metadata": {},
   "source": [
    "# 文件夹方法创建图像数据库\n",
    "\n",
    "1 读取所有图像路径，并得出label，存储在两个数组中\n",
    "\n",
    "2 乱序处理和分割1的结果\n",
    "\n",
    "3 根据2读取图像和预处理图像（尺寸），并且保存在新文件夹中"
   ]
  },
  {
   "cell_type": "code",
   "execution_count": 8,
   "metadata": {
    "scrolled": true
   },
   "outputs": [
    {
     "name": "stdout",
     "output_type": "stream",
     "text": [
      "The autoreload extension is already loaded. To reload it, use:\n",
      "  %reload_ext autoreload\n"
     ]
    }
   ],
   "source": [
    "import numpy as np\n",
    "import h5py\n",
    "from data_preprocess_folder import *\n",
    "\n",
    "% load_ext autoreload\n",
    "% autoreload 2"
   ]
  },
  {
   "cell_type": "code",
   "execution_count": 11,
   "metadata": {},
   "outputs": [
    {
     "name": "stdout",
     "output_type": "stream",
     "text": [
      "pass\n",
      "pass1\n",
      "pass2\n"
     ]
    }
   ],
   "source": [
    "pic_src = \"../oct-dataset/OCT2017/train/\"\n",
    "pic_dst = [\"../oct-dataset/OCT2017/train-ready/\", \"../oct-dataset/OCT2017/valid-ready/\"]\n",
    "\n",
    "img_size = 299\n",
    "\n",
    "test_auto_reload()"
   ]
  },
  {
   "cell_type": "code",
   "execution_count": 6,
   "metadata": {},
   "outputs": [
    {
     "name": "stdout",
     "output_type": "stream",
     "text": [
      "83484\n",
      "79309\n",
      "83484\n",
      "79309\n",
      "4175\n"
     ]
    }
   ],
   "source": [
    "data_preprocess(pic_src, train_ratio = 0.95, img_size = img_size, data_dst = pic_dst)"
   ]
  },
  {
   "cell_type": "markdown",
   "metadata": {
    "collapsed": true
   },
   "source": [
    "創建測試集"
   ]
  },
  {
   "cell_type": "code",
   "execution_count": 7,
   "metadata": {},
   "outputs": [
    {
     "name": "stdout",
     "output_type": "stream",
     "text": [
      "1000\n",
      "1000\n",
      "1000\n",
      "1000\n",
      "0\n"
     ]
    }
   ],
   "source": [
    "pic_src = \"../oct-dataset/OCT2017/test/\"\n",
    "pic_dst = [\"../oct-dataset/OCT2017/test-ready/\", \"../oct-dataset/OCT2017/test-fake-ready/\"]\n",
    "\n",
    "img_size = 299\n",
    "\n",
    "data_preprocess(pic_src, train_ratio = 1, img_size = img_size, data_dst = pic_dst)"
   ]
  },
  {
   "cell_type": "code",
   "execution_count": null,
   "metadata": {
    "collapsed": true
   },
   "outputs": [],
   "source": []
  }
 ],
 "metadata": {
  "kernelspec": {
   "display_name": "Python 3",
   "language": "python",
   "name": "python3"
  },
  "language_info": {
   "codemirror_mode": {
    "name": "ipython",
    "version": 3
   },
   "file_extension": ".py",
   "mimetype": "text/x-python",
   "name": "python",
   "nbconvert_exporter": "python",
   "pygments_lexer": "ipython3",
   "version": "3.6.5"
  }
 },
 "nbformat": 4,
 "nbformat_minor": 2
}
